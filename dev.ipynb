{
 "cells": [
  {
   "cell_type": "code",
   "execution_count": 6,
   "metadata": {},
   "outputs": [],
   "source": [
    "from sqlalchemy import create_engine\n",
    "from sqlalchemy.orm import sessionmaker\n",
    "\n",
    "# 데이터베이스 설정\n",
    "DATABASE_URL = \"sqlite:///database/app_data.db\"\n",
    "engine = create_engine(DATABASE_URL)\n",
    "Session = sessionmaker(bind=engine)"
   ]
  },
  {
   "cell_type": "code",
   "execution_count": 23,
   "metadata": {},
   "outputs": [],
   "source": [
    "from sqlalchemy.orm import sessionmaker\n",
    "from database.init_db import PromptCategory, Prompt, TestResult\n",
    "\n",
    "# 세션 생성\n",
    "Session = sessionmaker(bind=engine)\n",
    "session = Session()\n",
    "\n",
    "# PromptCategory 데이터 삽입\n",
    "category = PromptCategory(category_name=\"Example Category\")\n",
    "session.add(category)\n",
    "session.commit()\n",
    "\n",
    "# Prompt 데이터 삽입\n",
    "prompt = Prompt(system_prompt=\"Example System Prompt\", user_prompt=\"Example User Prompt\",\n",
    "                model=\"Example Model\", temperature=0.5, maximum_length=100, category=category)\n",
    "session.add(prompt)\n",
    "session.commit()\n",
    "\n",
    "# TestResult 데이터 삽입\n",
    "test_result = TestResult(tester_name=\"John Doe\", tester_team=\"Example Team\",\n",
    "                         input=\"Example Input\", output=\"Example Output\",\n",
    "                         prompt=prompt, user_confirmation=True, user_feedback=\"Example Feedback\")\n",
    "session.add(test_result)\n",
    "session.commit()"
   ]
  },
  {
   "cell_type": "code",
   "execution_count": 25,
   "metadata": {},
   "outputs": [
    {
     "name": "stdout",
     "output_type": "stream",
     "text": [
      "email\n",
      "test\n",
      "letter_analysis\n",
      "proofreading\n",
      "Example Category\n",
      "Example System Prompt\n",
      "Example Input\n"
     ]
    }
   ],
   "source": [
    "from sqlalchemy.orm import sessionmaker\n",
    "from database.init_db import PromptCategory, Prompt, TestResult\n",
    "\n",
    "# 세션 생성\n",
    "Session = sessionmaker(bind=engine)\n",
    "session = Session()\n",
    "\n",
    "# PromptCategory 조회\n",
    "categories = session.query(PromptCategory).all()\n",
    "for category in categories:\n",
    "    print(category.category_name)\n",
    "\n",
    "# Prompt 조회\n",
    "prompts = session.query(Prompt).all()\n",
    "for prompt in prompts:\n",
    "    print(prompt.system_prompt)\n",
    "\n",
    "# TestResult 조회\n",
    "test_results = session.query(TestResult).all()\n",
    "for test_result in test_results:\n",
    "    print(test_result.input)"
   ]
  }
 ],
 "metadata": {
  "kernelspec": {
   "display_name": "env",
   "language": "python",
   "name": "python3"
  },
  "language_info": {
   "codemirror_mode": {
    "name": "ipython",
    "version": 3
   },
   "file_extension": ".py",
   "mimetype": "text/x-python",
   "name": "python",
   "nbconvert_exporter": "python",
   "pygments_lexer": "ipython3",
   "version": "3.12.2"
  }
 },
 "nbformat": 4,
 "nbformat_minor": 2
}
